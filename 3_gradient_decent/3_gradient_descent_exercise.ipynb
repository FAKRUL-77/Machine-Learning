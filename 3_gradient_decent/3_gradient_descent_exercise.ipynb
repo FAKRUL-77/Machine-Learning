{
 "cells": [
  {
   "cell_type": "code",
   "execution_count": 34,
   "metadata": {},
   "outputs": [],
   "source": [
    "import numpy as np\n",
    "import pandas as pd\n",
    "import matplotlib.pyplot as plt\n",
    "from sklearn import linear_model\n",
    "import math"
   ]
  },
  {
   "cell_type": "code",
   "execution_count": 35,
   "metadata": {},
   "outputs": [],
   "source": [
    "def gradient_descent(x, y):\n",
    "    m_curr = c_curr = 0\n",
    "    learning_rete = 0.0002\n",
    "    n = len(x)\n",
    "    \n",
    "    for i in range(1000000):\n",
    "        y_predicted = m_curr * x + c_curr\n",
    "        d_m = -(2/n)*(x*(y-y_predicted))\n",
    "        d_c = -(2/n)*(y-y_predicted)\n",
    "        m_curr = m_curr - learning_rete * d_m\n",
    "        c_curr = c_curr - learning_rete * d_c     \n",
    "        #plt.plot(x,y,color='green')\n",
    "    return m_curr, c_curr"
   ]
  },
  {
   "cell_type": "code",
   "execution_count": 36,
   "metadata": {},
   "outputs": [
    {
     "name": "stdout",
     "output_type": "stream",
     "text": [
      "m_s = [1.01773624] c_s = 1.9152193111569176\n",
      "m = [1.06509155 1.21389863 0.9203357  1.14262395 1.03733792 1.06078268\n",
      " 1.01514434 0.85644372 1.03006656 1.08930958] c = [0.01157708 0.02167676 0.01045836 0.0163232  0.01296672 0.02164863\n",
      " 0.01561761 0.02446982 0.01560707 0.01625835]\n"
     ]
    }
   ],
   "source": [
    "df = pd.read_csv('test_scores.csv')\n",
    "model = linear_model.LinearRegression()\n",
    "x = np.array(df.math)\n",
    "y = np.array(df.cs)\n",
    "model.fit(df[['math']],df.cs)\n",
    "m, c = gradient_descent(x, y)\n",
    "print(\"m_s = {} c_s = {}\".format(model.coef_, model.intercept_))\n",
    "print(\"m = {} c = {}\".format(m, c))"
   ]
  },
  {
   "cell_type": "code",
   "execution_count": null,
   "metadata": {},
   "outputs": [],
   "source": []
  },
  {
   "cell_type": "code",
   "execution_count": null,
   "metadata": {},
   "outputs": [],
   "source": []
  }
 ],
 "metadata": {
  "kernelspec": {
   "display_name": "Python 3",
   "language": "python",
   "name": "python3"
  }
 },
 "nbformat": 4,
 "nbformat_minor": 2
}
